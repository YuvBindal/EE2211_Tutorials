{
 "cells": [
  {
   "cell_type": "code",
   "execution_count": null,
   "metadata": {},
   "outputs": [],
   "source": [
    "from numpy.linalg import inv, matrix_rank\n",
    "X = []\n",
    "y = []\n",
    "\n",
    "w = inv(X.T @ X)@X.T@y #OLS\n",
    "print(w)"
   ]
  },
  {
   "cell_type": "code",
   "execution_count": 1,
   "metadata": {},
   "outputs": [
    {
     "name": "stderr",
     "output_type": "stream",
     "text": [
      "/var/folders/k4/5t9w_3t17bx_h1kzys3r8tvh0000gn/T/ipykernel_98604/3223657660.py:3: RuntimeWarning: divide by zero encountered in log2\n",
      "  QB = ((0)*np.log2(0) + (1)*np.log2(1))*-1\n",
      "/var/folders/k4/5t9w_3t17bx_h1kzys3r8tvh0000gn/T/ipykernel_98604/3223657660.py:3: RuntimeWarning: invalid value encountered in scalar multiply\n",
      "  QB = ((0)*np.log2(0) + (1)*np.log2(1))*-1\n"
     ]
    }
   ],
   "source": [
    "import numpy as np\n",
    "QA = ((5/8)*np.log2(5/8) + (3/8)*np.log2(3/8))*-1\n",
    "QB = ((0)*np.log2(0) + (1)*np.log2(1))*-1"
   ]
  },
  {
   "cell_type": "code",
   "execution_count": 4,
   "metadata": {},
   "outputs": [
    {
     "data": {
      "text/plain": [
       "0.63628933528331"
      ]
     },
     "execution_count": 4,
     "metadata": {},
     "output_type": "execute_result"
    }
   ],
   "source": [
    "QA*(8/12)"
   ]
  },
  {
   "cell_type": "code",
   "execution_count": 3,
   "metadata": {},
   "outputs": [
    {
     "name": "stdout",
     "output_type": "stream",
     "text": [
      "nan\n"
     ]
    }
   ],
   "source": [
    "print(QB)"
   ]
  },
  {
   "cell_type": "code",
   "execution_count": 6,
   "metadata": {},
   "outputs": [
    {
     "name": "stdout",
     "output_type": "stream",
     "text": [
      "[[  1.   1.   3.   4.   1.   3.   4.   9.  12.  16.   1.   3.   4.   9.\n",
      "   12.  16.  27.  36.  48.  64.]\n",
      " [  1.   6.  -1.   6.  36.  -6.  36.   1.  -6.  36. 216. -36. 216.   6.\n",
      "  -36. 216.  -1.   6. -36. 216.]\n",
      " [  1.   5.   3.   3.  25.  15.  15.   9.   9.   9. 125.  75.  75.  45.\n",
      "   45.  45.  27.  27.  27.  27.]\n",
      " [  1.   2.   1.   2.   4.   2.   4.   1.   2.   4.   8.   4.   8.   2.\n",
      "    4.   8.   1.   2.   4.   8.]]\n"
     ]
    }
   ],
   "source": [
    "from sklearn.preprocessing import PolynomialFeatures\n",
    "X = np.array([[1,3,4], [6,-1,6],[5,3,3], [2,1,2]])\n",
    "y = np.array([[1], [2], [1], [4]])\n",
    "poly = PolynomialFeatures(3)\n",
    "P = poly.fit_transform(X)\n",
    "print(P)"
   ]
  },
  {
   "cell_type": "code",
   "execution_count": 7,
   "metadata": {},
   "outputs": [
    {
     "data": {
      "text/plain": [
       "20"
      ]
     },
     "execution_count": 7,
     "metadata": {},
     "output_type": "execute_result"
    }
   ],
   "source": [
    "len(P[0])"
   ]
  },
  {
   "cell_type": "code",
   "execution_count": 9,
   "metadata": {},
   "outputs": [],
   "source": [
    "import pandas as pd \n",
    "df = pd.DataFrame({\n",
    "    'x1': [-0.709,1.7255,.9539,-.7581,-1.035,-1.049],\n",
    "    'x2': [2.8179,1.5014,1.8365,-0.5467,1.8274,0.3501],\n",
    "    'x3': [-1.8349,.4055,1.0118,0.5171,.7279,1.2654],\n",
    "    'x4': [2.6354,2.7448,1.4616,.7258,-1.6893,-1.7512],\n",
    "    'y': [0.8206,1.0639,0.6895,-0.0252,0.995,0.6608]})\n"
   ]
  },
  {
   "cell_type": "code",
   "execution_count": null,
   "metadata": {},
   "outputs": [],
   "source": [
    "df.corr()"
   ]
  },
  {
   "cell_type": "code",
   "execution_count": null,
   "metadata": {},
   "outputs": [],
   "source": []
  }
 ],
 "metadata": {
  "kernelspec": {
   "display_name": "Python 3",
   "language": "python",
   "name": "python3"
  },
  "language_info": {
   "codemirror_mode": {
    "name": "ipython",
    "version": 3
   },
   "file_extension": ".py",
   "mimetype": "text/x-python",
   "name": "python",
   "nbconvert_exporter": "python",
   "pygments_lexer": "ipython3",
   "version": "3.11.7"
  }
 },
 "nbformat": 4,
 "nbformat_minor": 2
}
