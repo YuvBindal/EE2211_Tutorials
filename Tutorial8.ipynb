{
 "cells": [
  {
   "cell_type": "code",
   "execution_count": 1,
   "metadata": {},
   "outputs": [],
   "source": [
    "#derivative f(x)= 3x^3\n",
    "#f(2) = 24\n",
    "#learning rate 0.1\n",
    "#updated x = x - learning rate * derivative\n",
    "#x = 2 - 0.1*24 = 2 - 2.4 = -0.4\n"
   ]
  },
  {
   "cell_type": "code",
   "execution_count": 5,
   "metadata": {},
   "outputs": [
    {
     "data": {
      "text/html": [
       "<div>\n",
       "<style scoped>\n",
       "    .dataframe tbody tr th:only-of-type {\n",
       "        vertical-align: middle;\n",
       "    }\n",
       "\n",
       "    .dataframe tbody tr th {\n",
       "        vertical-align: top;\n",
       "    }\n",
       "\n",
       "    .dataframe thead th {\n",
       "        text-align: right;\n",
       "    }\n",
       "</style>\n",
       "<table border=\"1\" class=\"dataframe\">\n",
       "  <thead>\n",
       "    <tr style=\"text-align: right;\">\n",
       "      <th></th>\n",
       "      <th>year</th>\n",
       "      <th>total_expenditure_on_education</th>\n",
       "    </tr>\n",
       "  </thead>\n",
       "  <tbody>\n",
       "    <tr>\n",
       "      <th>0</th>\n",
       "      <td>1981</td>\n",
       "      <td>942517</td>\n",
       "    </tr>\n",
       "    <tr>\n",
       "      <th>1</th>\n",
       "      <td>1982</td>\n",
       "      <td>1358430</td>\n",
       "    </tr>\n",
       "    <tr>\n",
       "      <th>2</th>\n",
       "      <td>1983</td>\n",
       "      <td>1611647</td>\n",
       "    </tr>\n",
       "    <tr>\n",
       "      <th>3</th>\n",
       "      <td>1984</td>\n",
       "      <td>1769728</td>\n",
       "    </tr>\n",
       "    <tr>\n",
       "      <th>4</th>\n",
       "      <td>1985</td>\n",
       "      <td>1812376</td>\n",
       "    </tr>\n",
       "  </tbody>\n",
       "</table>\n",
       "</div>"
      ],
      "text/plain": [
       "   year  total_expenditure_on_education\n",
       "0  1981                          942517\n",
       "1  1982                         1358430\n",
       "2  1983                         1611647\n",
       "3  1984                         1769728\n",
       "4  1985                         1812376"
      ]
     },
     "execution_count": 5,
     "metadata": {},
     "output_type": "execute_result"
    }
   ],
   "source": [
    "import pandas as pd\n",
    "import numpy as np\n",
    "df = pd.read_csv('/Users/yuvvvvv/Downloads/GovernmentExpenditureonEducation.csv')\n",
    "df.head()"
   ]
  },
  {
   "cell_type": "code",
   "execution_count": 8,
   "metadata": {},
   "outputs": [
    {
     "data": {
      "text/html": [
       "<div>\n",
       "<style scoped>\n",
       "    .dataframe tbody tr th:only-of-type {\n",
       "        vertical-align: middle;\n",
       "    }\n",
       "\n",
       "    .dataframe tbody tr th {\n",
       "        vertical-align: top;\n",
       "    }\n",
       "\n",
       "    .dataframe thead th {\n",
       "        text-align: right;\n",
       "    }\n",
       "</style>\n",
       "<table border=\"1\" class=\"dataframe\">\n",
       "  <thead>\n",
       "    <tr style=\"text-align: right;\">\n",
       "      <th></th>\n",
       "      <th>year</th>\n",
       "      <th>total_expenditure_on_education</th>\n",
       "    </tr>\n",
       "  </thead>\n",
       "  <tbody>\n",
       "    <tr>\n",
       "      <th>0</th>\n",
       "      <td>0.979723</td>\n",
       "      <td>0.071149</td>\n",
       "    </tr>\n",
       "    <tr>\n",
       "      <th>1</th>\n",
       "      <td>0.980218</td>\n",
       "      <td>0.102546</td>\n",
       "    </tr>\n",
       "    <tr>\n",
       "      <th>2</th>\n",
       "      <td>0.980712</td>\n",
       "      <td>0.121661</td>\n",
       "    </tr>\n",
       "    <tr>\n",
       "      <th>3</th>\n",
       "      <td>0.981207</td>\n",
       "      <td>0.133595</td>\n",
       "    </tr>\n",
       "    <tr>\n",
       "      <th>4</th>\n",
       "      <td>0.981701</td>\n",
       "      <td>0.136814</td>\n",
       "    </tr>\n",
       "  </tbody>\n",
       "</table>\n",
       "</div>"
      ],
      "text/plain": [
       "       year  total_expenditure_on_education\n",
       "0  0.979723                        0.071149\n",
       "1  0.980218                        0.102546\n",
       "2  0.980712                        0.121661\n",
       "3  0.981207                        0.133595\n",
       "4  0.981701                        0.136814"
      ]
     },
     "execution_count": 8,
     "metadata": {},
     "output_type": "execute_result"
    }
   ],
   "source": [
    "df['year'] = df['year'] / max(df['year'])\n",
    "df['total_expenditure_on_education'] = df['total_expenditure_on_education'] / max(df['total_expenditure_on_education'])\n",
    "df.head()"
   ]
  },
  {
   "cell_type": "markdown",
   "metadata": {},
   "source": [
    "$$\\begin{align}\n",
    "∇_\\mathbf{w}C(\\mathbf{w}) &=\n",
    "∇_\\mathbf{w} \\sum_{i=1}^m (f(\\mathbf{x}_i, \\mathbf{w})-y_i)^2 \\\\\n",
    "&=\n",
    "\\sum_{i=1}^m ∇_\\mathbf{w} (f(\\mathbf{x}_i, \\mathbf{w})-y_i)^2 \\\\\n",
    "&=\n",
    "\\sum_{i=1}^m 2 (f(\\mathbf{x}_i, \\mathbf{w})-y_i) ∇_\\mathbf{w} f(\\mathbf{x}_i, \\mathbf{w})\n",
    "\\text{ chain rule}\\\\\n",
    "&=\n",
    "\\sum_{i=1}^m 2 (f(\\mathbf{x}_i, \\mathbf{w})-y_i) ∇_\\mathbf{w} \\exp(-\\mathbf{x}_i^T \\mathbf{w}) \\\\\n",
    "&=\n",
    "- \\sum_{i=1}^m 2 (f(\\mathbf{x}_i, \\mathbf{w})-y_i) \\exp(-\\mathbf{x}_i^T \\mathbf{w}) ∇_\\mathbf{w} (\\mathbf{x}_i^T \\mathbf{w})\n",
    "\\text{ chain rule} \\\\\n",
    "&=\n",
    "- \\sum_{i=1}^m 2 (f(\\mathbf{x}_i, \\mathbf{w})-y_i) \\exp(-\\mathbf{x}_i^T \\mathbf{w}) \\mathbf{x}_i^T \\\\\n",
    "&=\n",
    "- \\sum_{i=1}^m 2 (f(\\mathbf{x}_i, \\mathbf{w})-y_i) f(\\mathbf{x}_i, \\mathbf{w}) \\mathbf{x}_i^T \\\\\n",
    "\\end{align}$$\n"
   ]
  },
  {
   "cell_type": "code",
   "execution_count": 31,
   "metadata": {},
   "outputs": [],
   "source": [
    "def exp_cost_gradient(X, w, y):\n",
    "\n",
    "    # Compute prediction, cost and gradient based on mean square error loss\n",
    "    pred_y = np.exp(-X @ w)\n",
    "    cost   = np.sum((pred_y - y)*(pred_y - y))\n",
    "    gradient = -2 * (pred_y - y) * pred_y @ X\n",
    "\n",
    "    return pred_y, cost, gradient"
   ]
  },
  {
   "cell_type": "code",
   "execution_count": 40,
   "metadata": {},
   "outputs": [
    {
     "name": "stdout",
     "output_type": "stream",
     "text": [
      "Initial Cost = 15.016093489957909\n",
      "Iter 0 : cost = 11.28455765316087\n",
      "Iter 200000 : cost = 0.2646560882523522\n",
      "Iter 400000 : cost = 0.22462324460594024\n",
      "Iter 600000 : cost = 0.22357326470643707\n",
      "Iter 800000 : cost = 0.22354068774518182\n",
      "Iter 1000000 : cost = 0.2235396477869024\n",
      "Iter 1200000 : cost = 0.22353961441990064\n",
      "Iter 1400000 : cost = 0.22353961334835332\n",
      "Iter 1600000 : cost = 0.22353961331393613\n",
      "Iter 1800000 : cost = 0.22353961331283065\n",
      "Final Cost = 0.22353961331279515\n"
     ]
    }
   ],
   "source": [
    "# Gradient descent\n",
    "learning_rate = 0.03\n",
    "\n",
    "#initialise w0 to start the gradient descent\n",
    "w = np.zeros(2)\n",
    "\n",
    "#Compute the gradient of w0\n",
    "pred_y, cost, gradient = exp_cost_gradient(X, w, y)\n",
    "\n",
    "#Set num of iterations\n",
    "#create list to store the cost at each iteraetion\n",
    "num_iters = 2000000;\n",
    "cost_vec = np.zeros(num_iters)\n",
    "print('Initial Cost =', cost)\n",
    "\n",
    "for i in range(0, num_iters):\n",
    "\n",
    "    # update w\n",
    "    w = w - learning_rate*gradient\n",
    "\n",
    "    # compute updated cost and new gradient\n",
    "    pred_y, cost, gradient = exp_cost_gradient(X, w, y)\n",
    "    cost_vec[i] = cost\n",
    "\n",
    "    #Print statement every 20k iterations\n",
    "    if(i % 200000 == 0):\n",
    "        print('Iter', i, ': cost =', cost)\n",
    "\n",
    "#Calculate cost for the final updated w\n",
    "pred_y, cost, gradient = exp_cost_gradient(X, w, y)\n",
    "print('Final Cost =', cost)"
   ]
  },
  {
   "cell_type": "code",
   "execution_count": 41,
   "metadata": {},
   "outputs": [
    {
     "data": {
      "text/plain": [
       "Text(0.5, 1.0, 'Learning rate = 0.03')"
      ]
     },
     "execution_count": 41,
     "metadata": {},
     "output_type": "execute_result"
    },
    {
     "data": {
      "image/png": "[encoded data removed]",
      "text/plain": [
       "<Figure size 900x450 with 1 Axes>"
      ]
     },
     "metadata": {},
     "output_type": "display_data"
    }
   ],
   "source": [
    "import matplotlib.pyplot as plt \n",
    "# Plot cost function values over iterations\n",
    "plt.figure(0, figsize=[9,4.5])\n",
    "plt.rcParams.update({'font.size': 16})\n",
    "\n",
    "#plt.plot(x, y)\n",
    "plt.plot(np.arange(0, num_iters, 1), cost_vec)\n",
    "\n",
    "#Annotations\n",
    "plt.xlabel('Iteration Number')\n",
    "plt.ylabel('Square Error')\n",
    "plt.xticks(np.arange(0, num_iters+1, 500000))\n",
    "plt.title('Learning rate = ' + str(learning_rate))\n",
    "#plt.savefig('Figures/FigTut8Cost' + str(learning_rate) + '.eps')"
   ]
  },
  {
   "cell_type": "code",
   "execution_count": 42,
   "metadata": {},
   "outputs": [],
   "source": [
    "pred_y = X@w"
   ]
  },
  {
   "cell_type": "code",
   "execution_count": 43,
   "metadata": {},
   "outputs": [
    {
     "data": {
      "text/plain": [
       "array([ 1.89199091,  1.84214734,  1.79230377,  1.7424602 ,  1.69261663,\n",
       "        1.64277306,  1.59292949,  1.54308591,  1.49324234,  1.44339877,\n",
       "        1.3935552 ,  1.34371163,  1.29386806,  1.24402449,  1.19418092,\n",
       "        1.14433735,  1.09449377,  1.0446502 ,  0.99480663,  0.94496306,\n",
       "        0.89511949,  0.84527592,  0.79543235,  0.74558878,  0.69574521,\n",
       "        0.64590163,  0.59605806,  0.54621449,  0.49637092,  0.44652735,\n",
       "        0.39668378,  0.34684021,  0.29699664,  0.24715307,  0.19730949,\n",
       "        0.14746592,  0.09762235,  0.04777878, -0.00206479, -0.05190836,\n",
       "       -0.10175193, -0.1515955 ])"
      ]
     },
     "execution_count": 43,
     "metadata": {},
     "output_type": "execute_result"
    }
   ],
   "source": [
    "pred_y"
   ]
  },
  {
   "cell_type": "code",
   "execution_count": null,
   "metadata": {},
   "outputs": [],
   "source": []
  }
 ],
 "metadata": {
  "kernelspec": {
   "display_name": "Python 3",
   "language": "python",
   "name": "python3"
  },
  "language_info": {
   "codemirror_mode": {
    "name": "ipython",
    "version": 3
   },
   "file_extension": ".py",
   "mimetype": "text/x-python",
   "name": "python",
   "nbconvert_exporter": "python",
   "pygments_lexer": "ipython3",
   "version": "3.11.7"
  }
 },
 "nbformat": 4,
 "nbformat_minor": 2
}
