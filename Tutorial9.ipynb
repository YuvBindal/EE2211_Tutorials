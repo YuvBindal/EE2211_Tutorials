{
 "cells": [
  {
   "cell_type": "code",
   "execution_count": 2,
   "metadata": {},
   "outputs": [],
   "source": [
    "import numpy as np\n",
    "probs = [8/18, 5/18, 5/18]\n",
    "def calc_gini(probs):\n",
    "    summed = 0\n",
    "    for prob in probs:\n",
    "        summed += prob**2\n",
    "    return 1 - summed\n",
    "\n",
    "def calc_entropy(probs):\n",
    "    summed = 0\n",
    "    for prob in probs:\n",
    "        summed = prob*np.log2(prob)\n",
    "    return -summed\n",
    "\n",
    "def calc_mr(probs):\n",
    "    return 1 -max(probs)"
   ]
  },
  {
   "cell_type": "code",
   "execution_count": 3,
   "metadata": {},
   "outputs": [
    {
     "name": "stdout",
     "output_type": "stream",
     "text": [
      "0.6481481481481481\n",
      "0.5133324740430417\n",
      "0.5555555555555556\n"
     ]
    }
   ],
   "source": [
    "print(calc_gini(probs))\n",
    "print(calc_entropy(probs))\n",
    "print(calc_mr(probs))\n"
   ]
  },
  {
   "cell_type": "code",
   "execution_count": 4,
   "metadata": {},
   "outputs": [
    {
     "name": "stdout",
     "output_type": "stream",
     "text": [
      "0.5027777777777778\n",
      "0.46042846553052497\n",
      "0.3888888888888889\n"
     ]
    },
    {
     "name": "stderr",
     "output_type": "stream",
     "text": [
      "/var/folders/k4/5t9w_3t17bx_h1kzys3r8tvh0000gn/T/ipykernel_24574/3359875220.py:12: RuntimeWarning: divide by zero encountered in log2\n",
      "  summed = prob*np.log2(prob)\n",
      "/var/folders/k4/5t9w_3t17bx_h1kzys3r8tvh0000gn/T/ipykernel_24574/3359875220.py:12: RuntimeWarning: invalid value encountered in scalar multiply\n",
      "  summed = prob*np.log2(prob)\n"
     ]
    }
   ],
   "source": [
    "#depth 1\n",
    "probsB = [6/10, 0, 4/10]\n",
    "probsC = [2/8, 5/8, 1/8]\n",
    "\n",
    "gini = (10/18)*calc_gini(probsB) + (8/18)*calc_gini(probsC)\n",
    "entr = (10/18)*calc_entropy(probsB) + (8/18)*calc_entropy(probsC)\n",
    "mr = (10/18)*calc_mr(probsB) + (8/18)*calc_mr(probsC)\n",
    "print(gini)\n",
    "print(entr)\n",
    "print(mr)"
   ]
  },
  {
   "cell_type": "code",
   "execution_count": 13,
   "metadata": {},
   "outputs": [],
   "source": [
    "X_1 = [(1,2), (0.8,3),(2,2.5),(2.5,1),(3,2.3),(4,2.8),(4.2),1.5]\n",
    "X_2 = [(6,2.6), (6.3,3.5),(7,4),(8,3.5),(8.2,5),(9,4.5)]\n",
    "y_1_avg = sum(X_1[::][1]) / len(X_1)\n",
    "y_2_avg = sum(X_2[::][1]) / len(X_2)"
   ]
  },
  {
   "cell_type": "code",
   "execution_count": 15,
   "metadata": {},
   "outputs": [
    {
     "name": "stdout",
     "output_type": "stream",
     "text": [
      "0.475\n",
      "1.6333333333333335\n"
     ]
    }
   ],
   "source": [
    "print(y_1_avg)\n",
    "print(y_2_avg)"
   ]
  },
  {
   "cell_type": "code",
   "execution_count": 16,
   "metadata": {},
   "outputs": [],
   "source": []
  },
  {
   "cell_type": "code",
   "execution_count": null,
   "metadata": {},
   "outputs": [],
   "source": []
  }
 ],
 "metadata": {
  "kernelspec": {
   "display_name": "Python 3",
   "language": "python",
   "name": "python3"
  },
  "language_info": {
   "codemirror_mode": {
    "name": "ipython",
    "version": 3
   },
   "file_extension": ".py",
   "mimetype": "text/x-python",
   "name": "python",
   "nbconvert_exporter": "python",
   "pygments_lexer": "ipython3",
   "version": "3.11.7"
  }
 },
 "nbformat": 4,
 "nbformat_minor": 2
}
