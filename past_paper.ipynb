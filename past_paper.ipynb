{
 "cells": [
  {
   "cell_type": "code",
   "execution_count": 3,
   "metadata": {},
   "outputs": [],
   "source": [
    "import numpy as np\n",
    "from numpy.linalg import inv\n",
    "X = [4,7,10,2,3,9]\n",
    "X = np.array([[1, x] for x in X])\n",
    "y = [-1,-1,-1,1,1,1]\n",
    "y = np.array(y)\n",
    "w = inv(X.T@X)@X.T@y"
   ]
  },
  {
   "cell_type": "code",
   "execution_count": 5,
   "metadata": {},
   "outputs": [],
   "source": [
    "y_pred = X@w\n",
    "y_pred = np.sign(y_pred)"
   ]
  },
  {
   "cell_type": "code",
   "execution_count": 6,
   "metadata": {},
   "outputs": [
    {
     "data": {
      "text/plain": [
       "array([ 1., -1., -1.,  1.,  1., -1.])"
      ]
     },
     "execution_count": 6,
     "metadata": {},
     "output_type": "execute_result"
    }
   ],
   "source": [
    "y_pred"
   ]
  },
  {
   "cell_type": "code",
   "execution_count": 7,
   "metadata": {},
   "outputs": [
    {
     "data": {
      "text/plain": [
       "-1.0"
      ]
     },
     "execution_count": 7,
     "metadata": {},
     "output_type": "execute_result"
    }
   ],
   "source": [
    "X_test = np.array([1,6])\n",
    "y_pred = X_test@w\n",
    "y_pred = np.sign(y_pred)\n",
    "y_pred"
   ]
  },
  {
   "cell_type": "code",
   "execution_count": 10,
   "metadata": {},
   "outputs": [],
   "source": [
    "X = [4,7,10,2,3,9]\n",
    "X = np.array([[x] for x in X])\n",
    "\n",
    "from sklearn.preprocessing import PolynomialFeatures\n",
    "poly = PolynomialFeatures(4)\n",
    "P = poly.fit_transform(X)\n",
    "w = inv(P.T@P)@P.T@y\n",
    "y_pred = np.sign(P@w)       "
   ]
  },
  {
   "cell_type": "code",
   "execution_count": 11,
   "metadata": {},
   "outputs": [
    {
     "data": {
      "text/plain": [
       "array([-1., -1., -1.,  1.,  1.,  1.])"
      ]
     },
     "execution_count": 11,
     "metadata": {},
     "output_type": "execute_result"
    }
   ],
   "source": [
    "y_pred"
   ]
  },
  {
   "cell_type": "code",
   "execution_count": 12,
   "metadata": {},
   "outputs": [],
   "source": [
    "y_pred = np.sign(poly.fit_transform([[6]])@w)"
   ]
  },
  {
   "cell_type": "code",
   "execution_count": 13,
   "metadata": {},
   "outputs": [
    {
     "data": {
      "text/plain": [
       "array([-1.])"
      ]
     },
     "execution_count": 13,
     "metadata": {},
     "output_type": "execute_result"
    }
   ],
   "source": [
    "y_pred"
   ]
  },
  {
   "cell_type": "code",
   "execution_count": 14,
   "metadata": {},
   "outputs": [
    {
     "data": {
      "text/html": [
       "<div>\n",
       "<style scoped>\n",
       "    .dataframe tbody tr th:only-of-type {\n",
       "        vertical-align: middle;\n",
       "    }\n",
       "\n",
       "    .dataframe tbody tr th {\n",
       "        vertical-align: top;\n",
       "    }\n",
       "\n",
       "    .dataframe thead th {\n",
       "        text-align: right;\n",
       "    }\n",
       "</style>\n",
       "<table border=\"1\" class=\"dataframe\">\n",
       "  <thead>\n",
       "    <tr style=\"text-align: right;\">\n",
       "      <th></th>\n",
       "      <th>X</th>\n",
       "      <th>Y</th>\n",
       "      <th>Z</th>\n",
       "      <th>y</th>\n",
       "    </tr>\n",
       "  </thead>\n",
       "  <tbody>\n",
       "    <tr>\n",
       "      <th>0</th>\n",
       "      <td>3.3459</td>\n",
       "      <td>2.7435</td>\n",
       "      <td>-1.7253</td>\n",
       "      <td>2.9972</td>\n",
       "    </tr>\n",
       "    <tr>\n",
       "      <th>1</th>\n",
       "      <td>1.0893</td>\n",
       "      <td>2.9113</td>\n",
       "      <td>-0.7804</td>\n",
       "      <td>1.1399</td>\n",
       "    </tr>\n",
       "    <tr>\n",
       "      <th>2</th>\n",
       "      <td>3.2103</td>\n",
       "      <td>1.4706</td>\n",
       "      <td>-0.9944</td>\n",
       "      <td>2.2280</td>\n",
       "    </tr>\n",
       "    <tr>\n",
       "      <th>3</th>\n",
       "      <td>1.7440</td>\n",
       "      <td>1.2895</td>\n",
       "      <td>0.5307</td>\n",
       "      <td>0.3387</td>\n",
       "    </tr>\n",
       "    <tr>\n",
       "      <th>4</th>\n",
       "      <td>1.6762</td>\n",
       "      <td>2.1366</td>\n",
       "      <td>-1.0502</td>\n",
       "      <td>2.5042</td>\n",
       "    </tr>\n",
       "  </tbody>\n",
       "</table>\n",
       "</div>"
      ],
      "text/plain": [
       "        X       Y       Z       y\n",
       "0  3.3459  2.7435 -1.7253  2.9972\n",
       "1  1.0893  2.9113 -0.7804  1.1399\n",
       "2  3.2103  1.4706 -0.9944  2.2280\n",
       "3  1.7440  1.2895  0.5307  0.3387\n",
       "4  1.6762  2.1366 -1.0502  2.5042"
      ]
     },
     "execution_count": 14,
     "metadata": {},
     "output_type": "execute_result"
    }
   ],
   "source": [
    "import pandas as pd\n",
    "df = pd.DataFrame(\n",
    "    {\n",
    "        'X': [3.3459,1.0893,3.2103,1.744,1.6762],\n",
    "        'Y': [2.7435,2.9113,1.4706,1.2895,2.1366],\n",
    "        'Z': [-1.7253,-.7804,-.9944,.5307,-1.0502],\n",
    "        'y': [2.9972,1.1399,2.228,.3387,2.5042]\n",
    "    }\n",
    ")\n",
    "df"
   ]
  },
  {
   "cell_type": "code",
   "execution_count": 15,
   "metadata": {},
   "outputs": [
    {
     "data": {
      "text/html": [
       "<div>\n",
       "<style scoped>\n",
       "    .dataframe tbody tr th:only-of-type {\n",
       "        vertical-align: middle;\n",
       "    }\n",
       "\n",
       "    .dataframe tbody tr th {\n",
       "        vertical-align: top;\n",
       "    }\n",
       "\n",
       "    .dataframe thead th {\n",
       "        text-align: right;\n",
       "    }\n",
       "</style>\n",
       "<table border=\"1\" class=\"dataframe\">\n",
       "  <thead>\n",
       "    <tr style=\"text-align: right;\">\n",
       "      <th></th>\n",
       "      <th>X</th>\n",
       "      <th>Y</th>\n",
       "      <th>Z</th>\n",
       "      <th>y</th>\n",
       "    </tr>\n",
       "  </thead>\n",
       "  <tbody>\n",
       "    <tr>\n",
       "      <th>X</th>\n",
       "      <td>1.000000</td>\n",
       "      <td>-0.153327</td>\n",
       "      <td>-0.527787</td>\n",
       "      <td>0.650990</td>\n",
       "    </tr>\n",
       "    <tr>\n",
       "      <th>Y</th>\n",
       "      <td>-0.153327</td>\n",
       "      <td>1.000000</td>\n",
       "      <td>-0.641418</td>\n",
       "      <td>0.372218</td>\n",
       "    </tr>\n",
       "    <tr>\n",
       "      <th>Z</th>\n",
       "      <td>-0.527787</td>\n",
       "      <td>-0.641418</td>\n",
       "      <td>1.000000</td>\n",
       "      <td>-0.930813</td>\n",
       "    </tr>\n",
       "    <tr>\n",
       "      <th>y</th>\n",
       "      <td>0.650990</td>\n",
       "      <td>0.372218</td>\n",
       "      <td>-0.930813</td>\n",
       "      <td>1.000000</td>\n",
       "    </tr>\n",
       "  </tbody>\n",
       "</table>\n",
       "</div>"
      ],
      "text/plain": [
       "          X         Y         Z         y\n",
       "X  1.000000 -0.153327 -0.527787  0.650990\n",
       "Y -0.153327  1.000000 -0.641418  0.372218\n",
       "Z -0.527787 -0.641418  1.000000 -0.930813\n",
       "y  0.650990  0.372218 -0.930813  1.000000"
      ]
     },
     "execution_count": 15,
     "metadata": {},
     "output_type": "execute_result"
    }
   ],
   "source": [
    "df.corr()"
   ]
  },
  {
   "cell_type": "code",
   "execution_count": 16,
   "metadata": {},
   "outputs": [
    {
     "name": "stdout",
     "output_type": "stream",
     "text": [
      "20.6381\n"
     ]
    }
   ],
   "source": [
    "from sklearn.metrics import mean_squared_error\n",
    "\n",
    "X = [0.2,0.7,1.8,2.2,3.7,4.1,4.5,5.1,6.3,7.4]\n",
    "y = [2.1,1.5,5.8,6.1,9.1,9.5,9.8,12.7,13.8,15.9]\n",
    "avg_y = [sum(y)/len(y) for i in y]\n",
    "print(mean_squared_error(y,avg_y))\n"
   ]
  },
  {
   "cell_type": "code",
   "execution_count": 17,
   "metadata": {},
   "outputs": [
    {
     "name": "stdout",
     "output_type": "stream",
     "text": [
      "10.728541666666667\n"
     ]
    }
   ],
   "source": [
    "#split at x = 3 -> find MSE at depth 1\n",
    "y1 =  [2.1,1.5,5.8,6.1]\n",
    "y2 = [9.1,9.5,9.8,12.7,13.8,15.9]\n",
    "avg_y1 = [sum(y1)/len(y1) for i in y1]\n",
    "avg_y2 = [sum(y2)/len(y2) for i in y2]\n",
    "print(mean_squared_error(y1,avg_y1) + mean_squared_error(y2,avg_y2))\n"
   ]
  },
  {
   "cell_type": "code",
   "execution_count": null,
   "metadata": {},
   "outputs": [],
   "source": []
  }
 ],
 "metadata": {
  "kernelspec": {
   "display_name": "Python 3",
   "language": "python",
   "name": "python3"
  },
  "language_info": {
   "codemirror_mode": {
    "name": "ipython",
    "version": 3
   },
   "file_extension": ".py",
   "mimetype": "text/x-python",
   "name": "python",
   "nbconvert_exporter": "python",
   "pygments_lexer": "ipython3",
   "version": "3.11.7"
  }
 },
 "nbformat": 4,
 "nbformat_minor": 2
}
